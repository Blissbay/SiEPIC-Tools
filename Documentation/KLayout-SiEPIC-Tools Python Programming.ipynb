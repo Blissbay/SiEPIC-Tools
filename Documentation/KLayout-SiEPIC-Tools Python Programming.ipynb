{
 "cells": [
  {
   "cell_type": "markdown",
   "id": "d294e557",
   "metadata": {},
   "source": [
    "# Creating layouts by programming KLayout in Python\n",
    "This tutorial is based on an open source application for creating layouts (KLayout), and open source set of helper scripts in Python (SiEPIC-Tools), and an open source Process Design Kit (PDK) with technology files (SiEPIC-EBeam-PDK).\n",
    "\n",
    "Note this notebook is for educational purposes. Copy and paste the necessary code segments into your own Python project, using your favourite development environment, e.g., VSCode, Spyder, Jupyter notebook, KLayout's embedded Python, etc.\n",
    "\n",
    "### Software installation:\n",
    "\n",
    "***KLayout***\n",
    "\n",
    "> pip install klayout\n",
    "\n",
    "***SiEPIC-Tools***\n",
    "\n",
    "> pip install SiEPIC\n",
    "\n",
    "***SiEPIC-EBeam PDK***\n",
    "\n",
    "> pip install siepic_ebeam_pdk\n",
    "\n"
   ]
  },
  {
   "cell_type": "code",
   "execution_count": null,
   "id": "f962037c",
   "metadata": {},
   "outputs": [],
   "source": [
    "!pip install klayout\n",
    "!pip install SiEPIC\n",
    "!pip install siepic_ebeam_pdk"
   ]
  },
  {
   "cell_type": "markdown",
   "id": "15b3fc2d",
   "metadata": {},
   "source": [
    "# Tutorial\n",
    "\n",
    "### Create a new layout\n",
    " - technology: EBeam\n",
    " - top cell name: Top\n",
    " - floor plan dimensions: 605,000 x 410,000 nm = 605 x 410 µm\n",
    " - database units (1 unit = 0.001 micron = 1 nm, configured in the EBeam technology)"
   ]
  },
  {
   "cell_type": "code",
   "execution_count": null,
   "id": "46d444c6",
   "metadata": {},
   "outputs": [],
   "source": [
    "import pya # KLayout Python API\n",
    "import SiEPIC  # import module for SiEPIC-Tools, helper functions for KLayout\n",
    "import siepic_ebeam_pdk  # import module for the SiEPIC-EBeam-PDK technology\n",
    "from SiEPIC.utils.layout import new_layout, floorplan\n",
    "\n",
    "tech_name, top_cell_name = 'EBeam', 'Top'\n",
    "cell, ly = new_layout(tech_name, top_cell_name, GUI=True, overwrite = True)\n",
    "floorplan(cell, 605e3, 410e3)\n",
    "dbu = ly.dbu"
   ]
  },
  {
   "cell_type": "markdown",
   "id": "42811c23",
   "metadata": {},
   "source": [
    "### Create a blank cell in the layout\n",
    "- name: cell\n",
    "- Instantiate it as a subcell of the top cell at position (0,0) database units\n",
    "- record the instance in a variable (inst_cell) so we can manipulate or query it later if necessary"
   ]
  },
  {
   "cell_type": "code",
   "execution_count": null,
   "id": "66dba809",
   "metadata": {},
   "outputs": [],
   "source": [
    "import pya  # import module for KLayout\n",
    "\n",
    "subcell = ly.create_cell('cell')\n",
    "t = pya.Trans(pya.Trans.R0, 0,0)\n",
    "inst_cell = cell.insert(pya.CellInstArray(subcell.cell_index(), t))"
   ]
  },
  {
   "cell_type": "markdown",
   "id": "a91054b3",
   "metadata": {},
   "source": [
    "### Place cells from the PDK\n",
    "- use SiEPIC create_cell2 function, which is an enhanced version (error checking) of pya.Layout.create_cell\n",
    "- Instantiate it in the subcell at position (40 µm, 15 µm) or (40e3, 15e3) database units\n",
    "- record the instance in a variable (inst_gc1) so we can manipulate or query it later if necessary"
   ]
  },
  {
   "cell_type": "code",
   "execution_count": null,
   "id": "d23f25ae",
   "metadata": {},
   "outputs": [],
   "source": [
    "from SiEPIC.utils import create_cell2\n",
    "cell = create_cell2(ly, 'GC_TE_1310_8degOxide_BB', 'EBeam')\n",
    "t = pya.Trans(pya.Trans.R0, 40e3,15e3)\n",
    "inst_gc1 = cell.insert(pya.CellInstArray(subcell.cell_index(), t))"
   ]
  },
  {
   "cell_type": "markdown",
   "id": "32d4524b",
   "metadata": {},
   "source": [
    "## Developers\n",
    "- Install the tools and PDKs by creating a copy using GitHub Desktop, then installing as a symbolic link in pip."
   ]
  },
  {
   "cell_type": "code",
   "execution_count": null,
   "id": "d42b0dcc",
   "metadata": {},
   "outputs": [],
   "source": [
    "!python -m pip install -e '/Users/lukasc/Documents/GitHub/SiEPIC-Tools/klayout_dot_config/python'\n",
    "!python -m pip install -e '/Users/lukasc/Documents/GitHub/SiEPIC_EBeam_PDK/klayout'"
   ]
  },
  {
   "cell_type": "code",
   "execution_count": null,
   "id": "6e4cafc6",
   "metadata": {},
   "outputs": [],
   "source": []
  }
 ],
 "metadata": {
  "kernelspec": {
   "display_name": "Python 3 (ipykernel)",
   "language": "python",
   "name": "python3"
  },
  "language_info": {
   "codemirror_mode": {
    "name": "ipython",
    "version": 3
   },
   "file_extension": ".py",
   "mimetype": "text/x-python",
   "name": "python",
   "nbconvert_exporter": "python",
   "pygments_lexer": "ipython3",
   "version": "3.10.13"
  }
 },
 "nbformat": 4,
 "nbformat_minor": 5
}
